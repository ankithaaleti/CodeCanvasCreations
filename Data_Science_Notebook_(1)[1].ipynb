{
 "cells": [
  {
   "cell_type": "markdown",
   "id": "d21f0e61",
   "metadata": {},
   "source": [
    "# My Data Science Notebook"
   ]
  },
  {
   "cell_type": "markdown",
   "id": "c5aa025d",
   "metadata": {},
   "source": [
    "## Introduction\n",
    "This notebook demonstrates basic operations and documentation for data science tasks."
   ]
  },
  {
   "cell_type": "markdown",
   "id": "8c156a92",
   "metadata": {},
   "source": [
    "## Data Science Languages\n",
    "- Python\n",
    "- R\n",
    "- SQL\n",
    "- Julia\n",
    "- Scala"
   ]
  },
  {
   "cell_type": "markdown",
   "id": "387d39ea",
   "metadata": {},
   "source": [
    "## Data Science Libraries\n",
    "- Pandas\n",
    "- NumPy\n",
    "- Matplotlib\n",
    "- Scikit-learn\n",
    "- TensorFlow\n",
    "- PyTorch"
   ]
  },
  {
   "cell_type": "markdown",
   "id": "3f62ebaa",
   "metadata": {},
   "source": [
    "## Data Science Tools\n",
    "| Tool           | Purpose                |\n",
    "|----------------|------------------------|\n",
    "| Jupyter        | Notebook Environment   |\n",
    "| RStudio        | IDE for R Programming  |\n",
    "| Tableau        | Data Visualization     |\n",
    "| Apache Spark   | Big Data Processing    |\n",
    "| Hadoop         | Distributed Storage    |"
   ]
  },
  {
   "cell_type": "markdown",
   "id": "de9c3db6",
   "metadata": {},
   "source": [
    "## Arithmetic Expression Examples\n",
    "Below are some examples of arithmetic operations like addition and multiplication."
   ]
  },
  {
   "cell_type": "code",
   "execution_count": null,
   "id": "6b3fb45a",
   "metadata": {},
   "outputs": [],
   "source": [
    "# Multiply and add numbers\n",
    "result = (5 + 3) * 2\n",
    "result"
   ]
  },
  {
   "cell_type": "code",
   "execution_count": null,
   "id": "4bdc2e1c",
   "metadata": {},
   "outputs": [],
   "source": [
    "# Convert minutes to hours\n",
    "minutes = 150\n",
    "hours = minutes / 60\n",
    "hours"
   ]
  },
  {
   "cell_type": "markdown",
   "id": "833c3f91",
   "metadata": {},
   "source": [
    "## Objectives\n",
    "- Learn basic Markdown syntax.\n",
    "- Perform simple arithmetic operations.\n",
    "- Document data science tools and languages."
   ]
  },
  {
   "cell_type": "markdown",
   "id": "3893b8d8",
   "metadata": {},
   "source": [
    "## Author\n",
    "Ankitha Aleti"
   ]
  }
 ],
 "metadata": {
  "language_info": {
   "name": "python"
  }
 },
 "nbformat": 4,
 "nbformat_minor": 5
}
